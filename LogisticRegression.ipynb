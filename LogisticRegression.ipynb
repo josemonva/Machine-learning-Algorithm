{
  "nbformat": 4,
  "nbformat_minor": 0,
  "metadata": {
    "colab": {
      "name": "LogisticRegression.ipynb",
      "provenance": []
    },
    "kernelspec": {
      "name": "python3",
      "display_name": "Python 3"
    },
    "language_info": {
      "name": "python"
    }
  },
  "cells": [
    {
      "cell_type": "code",
      "metadata": {
        "id": "vOvJTRGPN7gK"
      },
      "source": [
        "from sklearn import datasets\n",
        "\n",
        "from sklearn.linear_model import LogisticRegression\n",
        "from sklearn.linear_model import SGDClassifier\n",
        "\n",
        "import pandas as pd\n",
        "import numpy as np\n"
      ],
      "execution_count": null,
      "outputs": []
    },
    {
      "cell_type": "code",
      "metadata": {
        "id": "i91YUiCHOsLb"
      },
      "source": [
        "iris = datasets.load_iris()"
      ],
      "execution_count": null,
      "outputs": []
    },
    {
      "cell_type": "code",
      "metadata": {
        "colab": {
          "base_uri": "https://localhost:8080/"
        },
        "id": "Xs5l5TQdSPAs",
        "outputId": "b1ef32f1-2970-46d3-d980-2f469e99663b"
      },
      "source": [
        "iris.target"
      ],
      "execution_count": null,
      "outputs": [
        {
          "output_type": "execute_result",
          "data": {
            "text/plain": [
              "array([0, 0, 0, 0, 0, 0, 0, 0, 0, 0, 0, 0, 0, 0, 0, 0, 0, 0, 0, 0, 0, 0,\n",
              "       0, 0, 0, 0, 0, 0, 0, 0, 0, 0, 0, 0, 0, 0, 0, 0, 0, 0, 0, 0, 0, 0,\n",
              "       0, 0, 0, 0, 0, 0, 1, 1, 1, 1, 1, 1, 1, 1, 1, 1, 1, 1, 1, 1, 1, 1,\n",
              "       1, 1, 1, 1, 1, 1, 1, 1, 1, 1, 1, 1, 1, 1, 1, 1, 1, 1, 1, 1, 1, 1,\n",
              "       1, 1, 1, 1, 1, 1, 1, 1, 1, 1, 1, 1, 2, 2, 2, 2, 2, 2, 2, 2, 2, 2,\n",
              "       2, 2, 2, 2, 2, 2, 2, 2, 2, 2, 2, 2, 2, 2, 2, 2, 2, 2, 2, 2, 2, 2,\n",
              "       2, 2, 2, 2, 2, 2, 2, 2, 2, 2, 2, 2, 2, 2, 2, 2, 2, 2])"
            ]
          },
          "metadata": {},
          "execution_count": 11
        }
      ]
    },
    {
      "cell_type": "code",
      "metadata": {
        "id": "0e5zQYK7QJqO"
      },
      "source": [
        "X = iris['data']\n",
        "Y = iris['target']"
      ],
      "execution_count": null,
      "outputs": []
    },
    {
      "cell_type": "code",
      "metadata": {
        "id": "YrBIcb0GO30H"
      },
      "source": [
        "from sklearn.model_selection import train_test_split\n",
        "\n",
        "X_train, X_test, Y_train, Y_test = train_test_split(X, Y, train_size=0.8)"
      ],
      "execution_count": null,
      "outputs": []
    },
    {
      "cell_type": "code",
      "metadata": {
        "colab": {
          "base_uri": "https://localhost:8080/"
        },
        "id": "zTzi-Yu4Qa5H",
        "outputId": "f01df87b-c8bc-4e36-ec70-03bb6f0d2c8a"
      },
      "source": [
        "log_clf = LogisticRegression(max_iter=1000)\n",
        "log_clf.fit(X_train, Y_train)"
      ],
      "execution_count": null,
      "outputs": [
        {
          "output_type": "execute_result",
          "data": {
            "text/plain": [
              "LogisticRegression(C=1.0, class_weight=None, dual=False, fit_intercept=True,\n",
              "                   intercept_scaling=1, l1_ratio=None, max_iter=1000,\n",
              "                   multi_class='auto', n_jobs=None, penalty='l2',\n",
              "                   random_state=None, solver='lbfgs', tol=0.0001, verbose=0,\n",
              "                   warm_start=False)"
            ]
          },
          "metadata": {},
          "execution_count": 6
        }
      ]
    },
    {
      "cell_type": "code",
      "metadata": {
        "id": "0odtuo4YRRH1"
      },
      "source": [
        "log_pred  = log_clf.predict(X_test)"
      ],
      "execution_count": null,
      "outputs": []
    },
    {
      "cell_type": "code",
      "metadata": {
        "colab": {
          "base_uri": "https://localhost:8080/"
        },
        "id": "fUREisQxRYVU",
        "outputId": "c9ae12ed-1611-4126-d71a-0abf55f69b80"
      },
      "source": [
        "log_pred\n"
      ],
      "execution_count": null,
      "outputs": [
        {
          "output_type": "execute_result",
          "data": {
            "text/plain": [
              "array([2, 2, 0, 1, 0, 1, 2, 0, 2, 1, 1, 2, 0, 0, 2, 2, 1, 0, 2, 2, 0, 1,\n",
              "       1, 1, 0, 1, 0, 0, 0, 1])"
            ]
          },
          "metadata": {},
          "execution_count": 9
        }
      ]
    },
    {
      "cell_type": "code",
      "metadata": {
        "colab": {
          "base_uri": "https://localhost:8080/"
        },
        "id": "0jTl13qRRgTw",
        "outputId": "2f452939-ee90-4cf5-a238-5d3a783875be"
      },
      "source": [
        "Y_test"
      ],
      "execution_count": null,
      "outputs": [
        {
          "output_type": "execute_result",
          "data": {
            "text/plain": [
              "array([2, 2, 0, 1, 0, 1, 2, 0, 2, 1, 1, 2, 0, 0, 2, 2, 1, 0, 2, 2, 0, 1,\n",
              "       1, 1, 0, 1, 0, 0, 0, 1])"
            ]
          },
          "metadata": {},
          "execution_count": 10
        }
      ]
    },
    {
      "cell_type": "code",
      "metadata": {
        "colab": {
          "base_uri": "https://localhost:8080/"
        },
        "id": "xYv6_j8STCPA",
        "outputId": "b7ead444-1138-4b58-e19a-10703e6a52e9"
      },
      "source": [
        "log_clf.predict_proba(X_test)"
      ],
      "execution_count": null,
      "outputs": [
        {
          "output_type": "execute_result",
          "data": {
            "text/plain": [
              "array([[4.58159850e-06, 3.19921285e-02, 9.68003290e-01],\n",
              "       [1.00158437e-05, 6.42021489e-02, 9.35787835e-01],\n",
              "       [9.67022687e-01, 3.29770014e-02, 3.11717755e-07],\n",
              "       [6.76313222e-04, 3.61316425e-01, 6.38007261e-01],\n",
              "       [9.69996531e-01, 3.00034187e-02, 5.04820700e-08],\n",
              "       [1.77296373e-01, 8.18779914e-01, 3.92371361e-03],\n",
              "       [7.30228622e-08, 6.58778379e-03, 9.93412143e-01],\n",
              "       [9.77369099e-01, 2.26308638e-02, 3.70221541e-08],\n",
              "       [1.41193417e-03, 3.93345819e-01, 6.05242247e-01],\n",
              "       [1.85147051e-02, 8.86743039e-01, 9.47422558e-02],\n",
              "       [1.20128625e-02, 9.71198633e-01, 1.67885044e-02],\n",
              "       [3.52809911e-05, 7.64071735e-02, 9.23557545e-01],\n",
              "       [9.81701123e-01, 1.82988456e-02, 3.11127138e-08],\n",
              "       [9.83205679e-01, 1.67942914e-02, 2.94618949e-08],\n",
              "       [3.85509424e-04, 1.75271042e-01, 8.24343449e-01],\n",
              "       [7.60880704e-04, 4.84078705e-01, 5.15160414e-01],\n",
              "       [1.05278576e-02, 9.26764740e-01, 6.27074022e-02],\n",
              "       [9.83658466e-01, 1.63415113e-02, 2.23567616e-08],\n",
              "       [3.85509424e-04, 1.75271042e-01, 8.24343449e-01],\n",
              "       [1.24835546e-06, 2.73537281e-02, 9.72645024e-01],\n",
              "       [9.75370723e-01, 2.46292122e-02, 6.48699694e-08],\n",
              "       [3.05245517e-02, 9.49710550e-01, 1.97648987e-02],\n",
              "       [4.67739558e-02, 9.43923319e-01, 9.30272506e-03],\n",
              "       [8.68004507e-03, 9.35778729e-01, 5.55412259e-02],\n",
              "       [9.36787227e-01, 6.32125720e-02, 2.01280473e-07],\n",
              "       [4.65619705e-03, 7.08402091e-01, 2.86941712e-01],\n",
              "       [9.68729603e-01, 3.12703275e-02, 6.94318823e-08],\n",
              "       [9.81170497e-01, 1.88294655e-02, 3.79530719e-08],\n",
              "       [9.74313452e-01, 2.56865002e-02, 4.73498614e-08],\n",
              "       [2.47038276e-02, 9.26971783e-01, 4.83243890e-02]])"
            ]
          },
          "metadata": {},
          "execution_count": 12
        }
      ]
    },
    {
      "cell_type": "code",
      "metadata": {
        "colab": {
          "base_uri": "https://localhost:8080/"
        },
        "id": "6X_74tr5UkvV",
        "outputId": "d618dd79-0bf8-4081-bda6-91ccc78f2c40"
      },
      "source": [
        "sgd_clf = SGDClassifier(loss='log')\n",
        "sgd_clf.fit(X_train ,Y_train)"
      ],
      "execution_count": null,
      "outputs": [
        {
          "output_type": "execute_result",
          "data": {
            "text/plain": [
              "SGDClassifier(alpha=0.0001, average=False, class_weight=None,\n",
              "              early_stopping=False, epsilon=0.1, eta0=0.0, fit_intercept=True,\n",
              "              l1_ratio=0.15, learning_rate='optimal', loss='log', max_iter=1000,\n",
              "              n_iter_no_change=5, n_jobs=None, penalty='l2', power_t=0.5,\n",
              "              random_state=None, shuffle=True, tol=0.001,\n",
              "              validation_fraction=0.1, verbose=0, warm_start=False)"
            ]
          },
          "metadata": {},
          "execution_count": 13
        }
      ]
    },
    {
      "cell_type": "code",
      "metadata": {
        "colab": {
          "base_uri": "https://localhost:8080/"
        },
        "id": "BUOCajRUXTuu",
        "outputId": "50a036ef-e57f-4931-c0a4-9243feb67e73"
      },
      "source": [
        "sgd_predict = sgd_clf.predict(X_test)\n",
        "sgd_predict"
      ],
      "execution_count": null,
      "outputs": [
        {
          "output_type": "execute_result",
          "data": {
            "text/plain": [
              "array([1, 1, 0, 1, 0, 1, 1, 0, 1, 0, 1, 1, 0, 0, 2, 1, 1, 0, 2, 1, 0, 1,\n",
              "       1, 1, 0, 0, 0, 0, 0, 1])"
            ]
          },
          "metadata": {},
          "execution_count": 14
        }
      ]
    },
    {
      "cell_type": "code",
      "metadata": {
        "colab": {
          "base_uri": "https://localhost:8080/"
        },
        "id": "Je8Pf5hOXnSz",
        "outputId": "4e79ab9e-9c56-4809-faa5-56d5b8c90453"
      },
      "source": [
        "log_prab = sgd_clf.predict_log_proba(X_test)\n",
        "log_prab"
      ],
      "execution_count": null,
      "outputs": [
        {
          "output_type": "stream",
          "name": "stderr",
          "text": [
            "/usr/local/lib/python3.7/dist-packages/sklearn/linear_model/_stochastic_gradient.py:1068: RuntimeWarning: divide by zero encountered in log\n",
            "  return np.log(self.predict_proba(X))\n"
          ]
        },
        {
          "output_type": "execute_result",
          "data": {
            "text/plain": [
              "array([[-5.54856316e+01, -2.10942375e-15, -3.37479771e+01],\n",
              "       [-6.55235825e+01, -6.92792105e-01, -6.93502383e-01],\n",
              "       [ 0.00000000e+00, -9.11878060e+01,            -inf],\n",
              "       [-4.87628114e+01,  0.00000000e+00, -7.33533493e+01],\n",
              "       [ 0.00000000e+00, -6.86532416e+01,            -inf],\n",
              "       [-1.46505738e+01, -4.33847129e-07, -2.93897681e+02],\n",
              "       [-7.71270706e+01, -6.93147181e-01, -6.93147181e-01],\n",
              "       [ 0.00000000e+00, -5.99382461e+01,            -inf],\n",
              "       [-1.46342962e+01, -4.40966913e-07, -9.73442708e+01],\n",
              "       [-8.05804788e-02, -2.55851856e+00, -2.37905910e+02],\n",
              "       [-2.68420367e+01, -2.20112817e-12, -2.95271981e+02],\n",
              "       [-2.97698248e+01, -1.17905685e-13, -4.43773808e+01],\n",
              "       [ 0.00000000e+00, -6.94209898e+01,            -inf],\n",
              "       [ 0.00000000e+00, -7.42413518e+01,            -inf],\n",
              "       [-4.98998017e+01, -5.53158986e+00, -3.96754907e-03],\n",
              "       [-4.48424730e+01,  0.00000000e+00, -1.38482140e+02],\n",
              "       [-2.47835665e+01, -1.72438730e-11, -3.03089616e+02],\n",
              "       [ 0.00000000e+00, -6.14194773e+01,            -inf],\n",
              "       [-4.98998017e+01, -5.53158986e+00, -3.96754907e-03],\n",
              "       [-6.67251092e+01, -9.50350909e-14, -2.99856947e+01],\n",
              "       [ 0.00000000e+00, -7.70995905e+01,            -inf],\n",
              "       [-2.33609181e+01, -7.15290049e-11, -2.78719279e+02],\n",
              "       [-2.01256135e+01, -1.81784610e-09, -3.03684885e+02],\n",
              "       [-2.37008939e+01, -5.09133846e-11, -3.29111860e+02],\n",
              "       [ 0.00000000e+00, -3.68159209e+01,            -inf],\n",
              "       [-6.03861115e-04, -7.41246824e+00, -2.17670137e+02],\n",
              "       [ 0.00000000e+00, -4.81028078e+01,            -inf],\n",
              "       [ 0.00000000e+00, -1.40505076e+02,            -inf],\n",
              "       [ 0.00000000e+00, -4.49216573e+01,            -inf],\n",
              "       [-2.11860376e+01, -6.29536312e-10, -2.79372199e+02]])"
            ]
          },
          "metadata": {},
          "execution_count": 16
        }
      ]
    },
    {
      "cell_type": "code",
      "metadata": {
        "colab": {
          "base_uri": "https://localhost:8080/"
        },
        "id": "VCDHF_73X6tj",
        "outputId": "b7859e73-e51b-4453-9533-6867a5da38ae"
      },
      "source": [
        "proba = sgd_clf.predict_proba(X_test)\n",
        "proba"
      ],
      "execution_count": null,
      "outputs": [
        {
          "output_type": "execute_result",
          "data": {
            "text/plain": [
              "array([[7.99643460e-025, 1.00000000e+000, 2.20515831e-015],\n",
              "       [3.49518096e-029, 5.00177569e-001, 4.99822431e-001],\n",
              "       [1.00000000e+000, 2.49826797e-040, 0.00000000e+000],\n",
              "       [6.64630243e-022, 1.00000000e+000, 1.39009716e-032],\n",
              "       [1.00000000e+000, 1.52853719e-030, 0.00000000e+000],\n",
              "       [4.33847035e-007, 9.99999566e-001, 2.30069357e-128],\n",
              "       [3.19255839e-034, 5.00000000e-001, 5.00000000e-001],\n",
              "       [1.00000000e+000, 9.31430561e-027, 0.00000000e+000],\n",
              "       [4.40966816e-007, 9.99999559e-001, 5.29566295e-043],\n",
              "       [9.22580652e-001, 7.74193476e-002, 4.77283131e-104],\n",
              "       [2.20115977e-012, 1.00000000e+000, 5.82113878e-129],\n",
              "       [1.17795683e-013, 1.00000000e+000, 5.33517152e-020],\n",
              "       [1.00000000e+000, 7.09328129e-031, 0.00000000e+000],\n",
              "       [1.00000000e+000, 5.71992803e-033, 0.00000000e+000],\n",
              "       [2.13202098e-022, 3.95968874e-003, 9.96040311e-001],\n",
              "       [3.35089976e-020, 1.00000000e+000, 7.21058645e-061],\n",
              "       [1.72438334e-011, 1.00000000e+000, 2.34343032e-132],\n",
              "       [1.00000000e+000, 2.11767799e-027, 0.00000000e+000],\n",
              "       [2.13202098e-022, 3.95968874e-003, 9.96040311e-001],\n",
              "       [1.05112232e-029, 1.00000000e+000, 9.49244897e-014],\n",
              "       [1.00000000e+000, 3.28150662e-034, 0.00000000e+000],\n",
              "       [7.15290012e-011, 1.00000000e+000, 8.98990753e-122],\n",
              "       [1.81784610e-009, 9.99999998e-001, 1.29220144e-132],\n",
              "       [5.09134518e-011, 1.00000000e+000, 1.17094174e-143],\n",
              "       [1.00000000e+000, 1.02576698e-016, 0.00000000e+000],\n",
              "       [9.99396321e-001, 6.03678827e-004, 2.93130246e-095],\n",
              "       [1.00000000e+000, 1.28592610e-021, 0.00000000e+000],\n",
              "       [1.00000000e+000, 9.53719413e-062, 0.00000000e+000],\n",
              "       [1.00000000e+000, 3.09579457e-020, 0.00000000e+000],\n",
              "       [6.29536290e-010, 9.99999999e-001, 4.67945868e-122]])"
            ]
          },
          "metadata": {},
          "execution_count": 17
        }
      ]
    },
    {
      "cell_type": "code",
      "metadata": {
        "id": "oWuH4nGRYK7e"
      },
      "source": [
        ""
      ],
      "execution_count": null,
      "outputs": []
    }
  ]
}